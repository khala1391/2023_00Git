{
 "cells": [
  {
   "cell_type": "markdown",
   "metadata": {},
   "source": [
    "test"
   ]
  },
  {
   "cell_type": "code",
   "execution_count": 1,
   "metadata": {},
   "outputs": [
    {
     "name": "stdout",
     "output_type": "stream",
     "text": [
      "0\n"
     ]
    }
   ],
   "source": [
    "print(2016%4)"
   ]
  },
  {
   "cell_type": "code",
   "execution_count": 2,
   "metadata": {},
   "outputs": [
    {
     "name": "stdout",
     "output_type": "stream",
     "text": [
      "3\n"
     ]
    }
   ],
   "source": [
    "print(2559%4)"
   ]
  },
  {
   "cell_type": "code",
   "execution_count": 5,
   "metadata": {},
   "outputs": [
    {
     "name": "stdout",
     "output_type": "stream",
     "text": [
      "True\n",
      "False\n"
     ]
    }
   ],
   "source": [
    "def leap_year(year):    #normal start with lower case\n",
    "    if year % 4 == 0:\n",
    "        return True  #case sensitive\n",
    "    else:\n",
    "        return False\n",
    "\n",
    "print (leap_year(2016))\n",
    "print (leap_year(2015))"
   ]
  },
  {
   "cell_type": "code",
   "execution_count": 6,
   "metadata": {},
   "outputs": [
    {
     "name": "stdout",
     "output_type": "stream",
     "text": [
      "True\n",
      "False\n"
     ]
    }
   ],
   "source": [
    "def leap_buddhistyear(year):    #normal start with lower case\n",
    "    if year % 4 == 3:\n",
    "        return True  #case sensitive\n",
    "    else:\n",
    "        return False\n",
    "\n",
    "print (leap_buddhistyear(2559))\n",
    "print (leap_buddhistyear(2558))"
   ]
  },
  {
   "cell_type": "code",
   "execution_count": 7,
   "metadata": {},
   "outputs": [
    {
     "name": "stdout",
     "output_type": "stream",
     "text": [
      "False\n",
      "True\n"
     ]
    }
   ],
   "source": [
    "def is_even(n):\n",
    "    if n % 2 == 0:\n",
    "        return True\n",
    "    else:\n",
    "        return False\n",
    "\n",
    "print (is_even(5))\n",
    "print (is_even(4))"
   ]
  },
  {
   "cell_type": "code",
   "execution_count": 9,
   "metadata": {},
   "outputs": [
    {
     "name": "stdout",
     "output_type": "stream",
     "text": [
      "True\n",
      "False\n"
     ]
    }
   ],
   "source": [
    "def is_odd(n):\n",
    "    return not (is_even(n))\n",
    "    #     return True\n",
    "    # else:\n",
    "    #     return False\n",
    "\n",
    "print (is_odd(5))\n",
    "print (is_odd(4))"
   ]
  },
  {
   "cell_type": "code",
   "execution_count": 11,
   "metadata": {},
   "outputs": [
    {
     "name": "stdout",
     "output_type": "stream",
     "text": [
      "False\n",
      "True\n"
     ]
    }
   ],
   "source": [
    "def is_even(n):\n",
    "    return True if n % 2 == 0 else False\n",
    "    # if n % 2 == 0:\n",
    "    #     return True\n",
    "    # else:\n",
    "    #     return False\n",
    "\n",
    "print (is_even(5))\n",
    "print (is_even(4))"
   ]
  },
  {
   "cell_type": "code",
   "execution_count": 16,
   "metadata": {},
   "outputs": [
    {
     "name": "stdout",
     "output_type": "stream",
     "text": [
      "300\n"
     ]
    }
   ],
   "source": [
    "def promotion(come,pay, per_head,pax):\n",
    "    # come 4, pay 2\n",
    "    # come 5, pay ?\n",
    "    # per_head = 100\n",
    "    return (pax//come) * (pay*per_head) + (pax%come)*per_head\n",
    "print (promotion(4,2,100,5))"
   ]
  },
  {
   "cell_type": "code",
   "execution_count": 18,
   "metadata": {},
   "outputs": [
    {
     "name": "stdout",
     "output_type": "stream",
     "text": [
      "300\n"
     ]
    }
   ],
   "source": [
    "come = int(input())\n",
    "pay = int(input())\n",
    "per_head = int(input())\n",
    "pax = int(input())\n",
    "\n",
    "def promotion(come,pay, per_head,pax):\n",
    "    # come 4, pay 2\n",
    "    # come 5, pay ?\n",
    "    # per_head = 100\n",
    "    return (pax//come) * (pay*per_head) + (pax%come)*per_head\n",
    "print (promotion(come,pay, per_head,pax))"
   ]
  },
  {
   "cell_type": "code",
   "execution_count": null,
   "metadata": {},
   "outputs": [],
   "source": []
  }
 ],
 "metadata": {
  "kernelspec": {
   "display_name": "base",
   "language": "python",
   "name": "python3"
  },
  "language_info": {
   "codemirror_mode": {
    "name": "ipython",
    "version": 3
   },
   "file_extension": ".py",
   "mimetype": "text/x-python",
   "name": "python",
   "nbconvert_exporter": "python",
   "pygments_lexer": "ipython3",
   "version": "3.11.3"
  },
  "orig_nbformat": 4
 },
 "nbformat": 4,
 "nbformat_minor": 2
}
